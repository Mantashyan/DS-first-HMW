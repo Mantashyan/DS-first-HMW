{
 "cells": [
  {
   "cell_type": "code",
   "execution_count": null,
   "metadata": {},
   "outputs": [],
   "source": [
    "# There is no need to run this chunk of code.\n",
    "import os\n",
    "wd=''\n",
    "os.chdir(wd)\n",
    "%run HW1_solutions.ipynb"
   ]
  },
  {
   "cell_type": "markdown",
   "metadata": {},
   "source": [
    "## Homework 1 Submission\n",
    "Write your name and surname below:\n",
    "<br>\n",
    "Name:\n",
    "<br>\n",
    "Surname:"
   ]
  },
  {
   "cell_type": "markdown",
   "metadata": {},
   "source": [
    "***Problem 1:*** <br> Write a program that: <br>\n",
    "a. compares the lengths of two texts given below (i.e. the number of characters in each text) <br>\n",
    "b. compares the numbers of words in each text<br>\n",
    "c. calculates the frequency of each word (the number of times the word appears in the text) in each text and puts them in a dictionary <br>\n",
    "d. prints the number of unique words used in each text as a dictionary.\n",
    "<br>\n",
    "Example 1: {\"The legth of text a\": 487,\"The legth of text b\": 562}<br>\n",
    "Example 2: Word frequency- {\"Jovi\":2,\"in\": 4}\n"
   ]
  },
  {
   "cell_type": "code",
   "execution_count": 166,
   "metadata": {},
   "outputs": [],
   "source": [
    "a = 'Bon Jovi is an American rock band formed in 1983 in Sayreville, New Jersey. \\\n",
    "It consists of singer Jon Bon Jovi, keyboardist David Bryan, drummer Tico Torres, \\\n",
    "guitarist PhilX, and bassist Hugh McDonald. Previous bassist Alec John Such was \\\n",
    "dismissed in 1994, and longtime guitarist and co-songwriter Richie Sambora left in 2013.'\n",
    "\n",
    "b = \"Ronald Wilson Reagan (/ˈreɪɡən/; February 6, 1911 – June 5, 2004) \\\n",
    "was an American politician who served as the 40th president of the United \\\n",
    "States from 1981 to 1989. Prior to his presidency, he was a Hollywood actor \\\n",
    "and union leader before serving as the 33rd governor of California from 1967 to 1975.\"\n",
    "\n",
    "\n"
   ]
  },
  {
   "cell_type": "code",
   "execution_count": 175,
   "metadata": {},
   "outputs": [
    {
     "name": "stdout",
     "output_type": "stream",
     "text": [
      "317\n",
      "296\n",
      "text a is longer than text b\n"
     ]
    }
   ],
   "source": [
    "###_______Start code here_________________###\n",
    "\n",
    "#a\n",
    "\n",
    "print(len(a))\n",
    "print(len(b))\n",
    "if len(a) > len(b):\n",
    "    print ('text a is longer than text b')\n",
    "else:\n",
    "    print('text b is longer than text a')\n",
    "\n",
    "###_____________End code here_________________###"
   ]
  },
  {
   "cell_type": "code",
   "execution_count": null,
   "metadata": {},
   "outputs": [],
   "source": [
    "#b\n",
    "    \n",
    "a=a.replace(\",\", \"\")\n",
    "a= a.replace(\".\", \"\")\n",
    "b=b.replace(\",\", \"\")\n",
    "b= b.replace(\".\", \"\")\n",
    "awords = a.split()\n",
    "bwords= b.split()\n",
    "print(\"the length of a:\" , len(awords)) \n",
    "print(\"the length of b:\" , len(bwords))\n",
    "if len(awords)>len(bwords):\n",
    "    print(\"text a has more words than text b\")\n",
    "else:\n",
    "    print(\"text b has more words than a\")"
   ]
  },
  {
   "cell_type": "code",
   "execution_count": 344,
   "metadata": {},
   "outputs": [
    {
     "name": "stdout",
     "output_type": "stream",
     "text": [
      "43 45\n"
     ]
    }
   ],
   "source": [
    "#d \n",
    "\n",
    "unique1= set(a_words)\n",
    "unique2 = set(b_words)\n",
    "print(len(unique1),len(unique2))\n"
   ]
  },
  {
   "cell_type": "code",
   "execution_count": 230,
   "metadata": {},
   "outputs": [],
   "source": [
    "# There is no need to run this chunk of code.\n",
    "ex1(a,b)"
   ]
  },
  {
   "cell_type": "markdown",
   "metadata": {},
   "source": [
    "***Problem 13:*** Write a program to calculate the sum of the digits of a number  until it is a single-digit number (Example: **199** -> 1+9+9=**19** -> 1+9=**10** -> 1+0=**1**). Let the program print the result of each step (the bolded numbers in the example). Run the program for 289, 1011, 3333.\n"
   ]
  },
  {
   "cell_type": "code",
   "execution_count": 217,
   "metadata": {},
   "outputs": [
    {
     "name": "stdout",
     "output_type": "stream",
     "text": [
      "19\n",
      "10\n",
      "1\n",
      "3\n",
      "12\n",
      "3\n"
     ]
    }
   ],
   "source": [
    "###_____________Start code here_________________###\n",
    "\n",
    "import math\n",
    "\n",
    "def digits(n):\n",
    "    i = 0\n",
    "    j = 0\n",
    "    n=str(n)\n",
    "    while(i < len(n)):\n",
    "        a = int(n[i])\n",
    "        j = j + a\n",
    "        i = i + 1\n",
    "    print(j)    \n",
    "    if j > 9:\n",
    "        return(digits(j))\n",
    "    else:\n",
    "        return (None)\n",
    "    \n",
    "digits(289)\n",
    "\n",
    "digits(1011)\n",
    "\n",
    "digits(3333)\n",
    "\n",
    "\n",
    "###_____________End code here_________________###"
   ]
  },
  {
   "cell_type": "code",
   "execution_count": null,
   "metadata": {},
   "outputs": [],
   "source": [
    "# There is no need to run this chunk of code.\n",
    "ex13(289)\n",
    "ex13(1011)\n",
    "ex13(3333)"
   ]
  },
  {
   "cell_type": "markdown",
   "metadata": {},
   "source": [
    "***Problem 14:*** Write a program to print a chess board where **\"X\"s** are black squares and **\"O\"s** are white ones. Hint: you can use \"end\" parameter of print() function to print on the same line and separate the outputs of different prints by space or any character you want. More on this topic here: https://www.geeksforgeeks.org/gfact-50-python-end-parameter-in-print/.\n",
    "<br>The output should be like this:\n",
    "<img src=\"chess.jpg\" style=\"width: 200px;\">"
   ]
  },
  {
   "cell_type": "code",
   "execution_count": 222,
   "metadata": {},
   "outputs": [
    {
     "name": "stdout",
     "output_type": "stream",
     "text": [
      "----------------\n",
      "|O|X|O|X|O|X|O|X|\n",
      "----------------\n",
      "|X|O|X|O|X|O|X|O|\n",
      "----------------\n",
      "|O|X|O|X|O|X|O|X|\n",
      "----------------\n",
      "|X|O|X|O|X|O|X|O|\n",
      "----------------\n",
      "|O|X|O|X|O|X|O|X|\n",
      "----------------\n",
      "|X|O|X|O|X|O|X|O|\n",
      "----------------\n",
      "|O|X|O|X|O|X|O|X|\n",
      "----------------\n",
      "|X|O|X|O|X|O|X|O|\n"
     ]
    }
   ],
   "source": [
    "###_____________Start code here_________________###\n",
    "\n",
    "def OXs(num):\n",
    "    for a in range(num):\n",
    "        if a%2==0:\n",
    "            print(\"-\"*(2*num))\n",
    "            print(\"|O|X\"*4, end=\"|\\n\")\n",
    "        else:\n",
    "            print(\"-\"*(2*num))\n",
    "            print(\"|X|O\"*4,end=\"|\\n\")\n",
    "OXs(8)\n",
    "\n",
    "\n",
    "###_____________End code here_________________###"
   ]
  },
  {
   "cell_type": "code",
   "execution_count": 203,
   "metadata": {},
   "outputs": [],
   "source": [
    "# There is no need to run this chunk of code.\n",
    "ex14()"
   ]
  },
  {
   "cell_type": "markdown",
   "metadata": {},
   "source": [
    "***Problem 15:*** Write a program to reverse the digits of a given integer without using any built-in function or slicing. (**Example**: 12345 to 54321). Run the program for 4815162342."
   ]
  },
  {
   "cell_type": "code",
   "execution_count": 223,
   "metadata": {},
   "outputs": [
    {
     "name": "stdout",
     "output_type": "stream",
     "text": [
      "2432615184\n"
     ]
    }
   ],
   "source": [
    "###_____________Start code here_________________###\n",
    "\n",
    "def reverse(n):\n",
    "    sum = ''\n",
    "    long = len(n)-1\n",
    "    while(long >= 0):\n",
    "        sum =sum +n[long]\n",
    "        long = long - 1\n",
    "    return sum\n",
    "print(reverse('4815162342'))\n",
    "\n",
    "###_____________End code here_________________###"
   ]
  },
  {
   "cell_type": "code",
   "execution_count": 77,
   "metadata": {},
   "outputs": [
    {
     "ename": "NameError",
     "evalue": "name 'ex15' is not defined",
     "output_type": "error",
     "traceback": [
      "\u001b[1;31m---------------------------------------------------------------------------\u001b[0m",
      "\u001b[1;31mNameError\u001b[0m                                 Traceback (most recent call last)",
      "\u001b[1;32m<ipython-input-77-6db636623c43>\u001b[0m in \u001b[0;36m<module>\u001b[1;34m\u001b[0m\n\u001b[0;32m      1\u001b[0m \u001b[1;31m# There is no need to run this chunk of code.\u001b[0m\u001b[1;33m\u001b[0m\u001b[1;33m\u001b[0m\u001b[1;33m\u001b[0m\u001b[0m\n\u001b[1;32m----> 2\u001b[1;33m \u001b[0mex15\u001b[0m\u001b[1;33m(\u001b[0m\u001b[1;36m4815162342\u001b[0m\u001b[1;33m)\u001b[0m\u001b[1;33m\u001b[0m\u001b[1;33m\u001b[0m\u001b[0m\n\u001b[0m",
      "\u001b[1;31mNameError\u001b[0m: name 'ex15' is not defined"
     ]
    }
   ],
   "source": [
    "# There is no need to run this chunk of code.\n",
    "ex15(4815162342)"
   ]
  },
  {
   "cell_type": "markdown",
   "metadata": {},
   "source": [
    "***Problem 17:*** Write a function that will find all numbers between A and B (inclusive) such that each digit of the number is even. For example foo(20,26) returns [22,24,26]. Call the function for A=40 and B=140. 0 is even number."
   ]
  },
  {
   "cell_type": "code",
   "execution_count": 247,
   "metadata": {},
   "outputs": [
    {
     "name": "stdout",
     "output_type": "stream",
     "text": [
      "[42, 44, 46, 48, 60, 62, 64, 66, 68, 80, 82, 84, 86, 88]\n"
     ]
    }
   ],
   "source": [
    "###_____________Start code here_________________###\n",
    "def foo(A,B):\n",
    "    listofEven=[]\n",
    "    for value in range(A+1,B+1):\n",
    "        num1= str(value)\n",
    "        num2=list(num1)   \n",
    "        shorter=len(list(num2))\n",
    "        for a in num2:\n",
    "            if int(a)%2==0:\n",
    "                shorter-=1\n",
    "            if shorter==0:\n",
    "                listofEven.append(value)\n",
    "    return listofEven\n",
    "A=40\n",
    "B=140 \n",
    "print(foo(A,B))\n",
    "        ###___________End code here_________________###"
   ]
  },
  {
   "cell_type": "code",
   "execution_count": 248,
   "metadata": {},
   "outputs": [],
   "source": [
    "# There is no need to run this chunk of code.\n",
    "ex17(20,140)"
   ]
  },
  {
   "cell_type": "markdown",
   "metadata": {},
   "source": [
    "***Problem 18:*** On basic cell phones numeric keypad is used to write a message. Write a function to output the numerical sequence of the keys to be pressed for any message. For instance, numerical sequence for typing \"P\" will be 7 and for \"I\" 444. Another example, the sequence for \"hello\" will be 4433555555666. Make the input text uppercase before converting to numerical sequence. Call the function for the following input **\"HI DEAR! I WILL BE LATE TODAY.\"**\n",
    "\n",
    "| Key | Symbols |\n",
    "|----|----|\n",
    "|1|. , ? ! :|\n",
    "|2|A B C|\n",
    "|3|D E F|\n",
    "|4|G H I|\n",
    "|5|J K L|\n",
    "|6|M N O|\n",
    "|7|P Q R S|\n",
    "|8|T U V|\n",
    "|9|W X Y Z|\n",
    "|0| space |\n"
   ]
  },
  {
   "cell_type": "code",
   "execution_count": 256,
   "metadata": {},
   "outputs": [
    {
     "name": "stdout",
     "output_type": "stream",
     "text": [
      "44444033327771111044409444555555022330555283308666329991\n"
     ]
    }
   ],
   "source": [
    "###_____________Start code here_________________###\n",
    "\n",
    "oldPhoneTexting = {'.': '1', ',': '11', '?': '111',\"!\":\"1111\" ,':': '11111',\n",
    "                'A': '2', 'B': '22', 'C': '222',\n",
    "                'D': '3', 'E': '33', 'F': '333',\n",
    "                'G': '4', 'H': \"44\", 'I': '444',\n",
    "                'J': '5', 'K': '55', 'L': '555',\n",
    "                'M': '6', 'N': '66', 'O': '666',\n",
    "                'P': '7', 'Q': '77', 'R': '777', 'S': '7777',\n",
    "                'T': '8', 'U': '88', 'V': '888',\n",
    "                'W': '9', 'X': '99', 'Y': '999', 'Z': '9999',\n",
    "                \" \": '0'}\n",
    "\n",
    "def Done(sms):\n",
    "    text=list(sms)\n",
    "    a = \"\"\n",
    "    for value in text:\n",
    "        a = a + oldPhoneTexting[value]\n",
    "    print(a)\n",
    "    \n",
    "Done(\"HI DEAR! I WILL BE LATE TODAY.\")    \n",
    "\n",
    "###_____________End code here_________________###"
   ]
  },
  {
   "cell_type": "code",
   "execution_count": null,
   "metadata": {},
   "outputs": [],
   "source": [
    "# There is no need to run this chunk of code.\n",
    "print(ex18(\"HI DEAR! I WILL BE LATE TODAY.\"))"
   ]
  },
  {
   "cell_type": "markdown",
   "metadata": {},
   "source": [
    "***Problem 20:*** Write a program that accepts a sentence and prints the number of letters and digits in it. Run the program for \"1, 2, 3, 4... Let's run the code!\" "
   ]
  },
  {
   "cell_type": "code",
   "execution_count": 258,
   "metadata": {},
   "outputs": [
    {
     "name": "stdout",
     "output_type": "stream",
     "text": [
      "14\n",
      "4\n"
     ]
    }
   ],
   "source": [
    "###_____________Start code here_________________###\n",
    "\n",
    "expr = ( \"1, 2, 3, 4... Let's run the code!\")\n",
    "letters = 0  \n",
    "digits = 0  \n",
    "\n",
    "for value in expr:  \n",
    "    if  value.isalpha():    \n",
    "        letters+=1        \n",
    "    elif value.isdigit(): \n",
    "        digits+=1    \n",
    "    else:    \n",
    "        pass  \n",
    "print(letters)  \n",
    "print(digits)\n",
    "###_____________End code here_________________###"
   ]
  },
  {
   "cell_type": "code",
   "execution_count": null,
   "metadata": {},
   "outputs": [],
   "source": [
    "\n",
    "# There is no need to run this chunk of code.\n",
    "ex20(\"1, 2, 3, 4... Let's run the code!\")"
   ]
  },
  {
   "cell_type": "markdown",
   "metadata": {},
   "source": [
    "***Problem 22:*** Two people throw two six-sided fair dices each. The one with greater sum wins, and if the sum is equal, they draw. Write a program that simulates the game and plays 100 time. Print the number of wins of Player 1, Player 2 and draws."
   ]
  },
  {
   "cell_type": "code",
   "execution_count": 279,
   "metadata": {},
   "outputs": [
    {
     "name": "stdout",
     "output_type": "stream",
     "text": [
      "first: 40 second: 23 Draw: 38\n"
     ]
    }
   ],
   "source": [
    "###_____________Start code here_________________###\n",
    "dice = [1, 2, 3, 4, 5, 6] #possibilities\n",
    "first=0\n",
    "second=0\n",
    "draw=0\n",
    "import random\n",
    "\n",
    "n=0\n",
    "       \n",
    "while n<=100:\n",
    "        if  random.choice(dice)+ random.choice(dice)> random.choice(dice)+ random.choice(dice):\n",
    "                first+=1\n",
    "        elif random.choice(dice)+ random.choice(dice)< random.choice(dice)+ random.choice(dice):\n",
    "                second+=1\n",
    "        else:\n",
    "                draw+=1\n",
    "        n+=1\n",
    "                       \n",
    "print(\"first:\",first,\"second:\", second,\"Draw:\",draw)   \n",
    "\n",
    "###_____________End code here_________________###"
   ]
  },
  {
   "cell_type": "code",
   "execution_count": 280,
   "metadata": {},
   "outputs": [],
   "source": [
    "# There is no need to run this chunk of code.\n",
    "ex22()"
   ]
  },
  {
   "cell_type": "markdown",
   "metadata": {},
   "source": [
    "***Problem 23:*** Write a program that randomly generates a nine-character password. First 3 characters must be from the set \"let\", second 3 characters from the set \"num\", last three ones from the set \"sym\". Set seed() to 42 and generate a password."
   ]
  },
  {
   "cell_type": "code",
   "execution_count": 320,
   "metadata": {},
   "outputs": [
    {
     "name": "stdout",
     "output_type": "stream",
     "text": [
      "bCC632%%$\n"
     ]
    }
   ],
   "source": [
    "let = {'A','B','C','a','b','c'}\n",
    "num = {1,2,3,4,5,6}\n",
    "sym = {'!','@','#','$','%','^'}\n",
    "\n",
    "import random\n",
    "random.seed(42)\n",
    "a=list(let)\n",
    "b=list(num)\n",
    "c=list(sym)\n",
    "psw = random.choice(a)+random.choice(a)+random.choice(a)+str(random.choice(b))+str(random.choice(b))+str(random.choice(b))+random.choice(c)+random.choice(c)+random.choice(c)\n",
    "print(psw)"
   ]
  },
  {
   "cell_type": "code",
   "execution_count": 321,
   "metadata": {},
   "outputs": [],
   "source": [
    "# There is no need to run this chunk of code.\n",
    "ex23()"
   ]
  },
  {
   "cell_type": "markdown",
   "metadata": {},
   "source": [
    "\n",
    "***Problem 24:*** Write a program to find all the numbers divisible by 6 but not a multiple of 5 between 100 and 500 (inclusive). Print the numbers as a comma-separated string."
   ]
  },
  {
   "cell_type": "code",
   "execution_count": 324,
   "metadata": {},
   "outputs": [
    {
     "name": "stdout",
     "output_type": "stream",
     "text": [
      "['102', '108', '114', '120', '126', '132', '138', '144', '150', '156', '162', '168', '174', '180', '186', '192', '198', '204', '210', '216', '222', '228', '234', '240', '246', '252', '258', '264', '270', '276', '282', '288', '294', '300', '306', '312', '318', '324', '330', '336', '342', '348', '354', '360', '366', '372', '378', '384', '390', '396', '402', '408', '414', '420', '426', '432', '438', '444', '450', '456', '462', '468', '474', '480', '486', '492', '498']\n"
     ]
    }
   ],
   "source": [
    "###_____________Start code here_________________###\n",
    "\n",
    "list1=[]\n",
    "for value in range(100,501):\n",
    "    if value%6==0 and n%5!=0:\n",
    "        list1.append(str(value))\n",
    "print(list1)\n",
    "        \n",
    "        \n",
    "    \n",
    "    \n",
    "    \n",
    "\n",
    "###_____________End code here_________________###"
   ]
  },
  {
   "cell_type": "code",
   "execution_count": 322,
   "metadata": {},
   "outputs": [],
   "source": [
    "# There is no need to run this chunk of code.\n",
    "ex24()"
   ]
  },
  {
   "cell_type": "markdown",
   "metadata": {},
   "source": [
    "***Example 25:*** Write a program that converts \"firstname lastname\" to \"lastname, firstname\", using list comprehensions."
   ]
  },
  {
   "cell_type": "code",
   "execution_count": 325,
   "metadata": {},
   "outputs": [
    {
     "name": "stdout",
     "output_type": "stream",
     "text": [
      "Վարդանյան,Հրաչյա\n",
      "Կարապետյան,Անուշ\n",
      "Անտոնյան,Գոռ\n",
      "Հարությունյան,Տաթեւ\n",
      "Sargsyan,Mary\n"
     ]
    }
   ],
   "source": [
    "ls = ['Հրաչյա Վարդանյան', 'Անուշ Կարապետյան', 'Գոռ Անտոնյան', 'Տաթեւ Հարությունյան', 'Mary Sargsyan']\n",
    "\n",
    "for value in ls:\n",
    "    split = value.split(\" \")\n",
    "    again = split[1] + \",\"+ split[0]\n",
    "    print(again)\n"
   ]
  },
  {
   "cell_type": "code",
   "execution_count": null,
   "metadata": {},
   "outputs": [],
   "source": [
    "# There is no need to run this chunk of code.\n",
    "ex25(ls)"
   ]
  },
  {
   "cell_type": "markdown",
   "metadata": {},
   "source": [
    "***Problem 27:*** Write a function to devide an input list of ages between 0 and 70 into 4 groups.<br><br>\n",
    "Baby Boomers  - (50 to 70 years old]<br>\n",
    "Generation X - (34 to 50 years old]<br>\n",
    "Generation Y - (18 to 34 years old]<br>\n",
    "Generation Z - [0 to 18 years old]<br>\n",
    "\n",
    "Return a dictionary with the following structure:\n",
    "{'Group 1':[ages],'Group 2':[ages],'Group 3':[ages],'Group 4':[ages]}"
   ]
  },
  {
   "cell_type": "code",
   "execution_count": 331,
   "metadata": {},
   "outputs": [
    {
     "name": "stdout",
     "output_type": "stream",
     "text": [
      "{'Group1': [18, 3, 14, 10, 1, 5], 'Group2': [29, 23, 24], 'Group4': [69, 58, 52, 65]}\n"
     ]
    }
   ],
   "source": [
    "ls = [18,29,3,14,69,10,1,58,52,23,24,5,65]\n",
    "###_____________Start code here_________________###\n",
    "\n",
    "def Gens(ages):\n",
    "    generation = {}\n",
    "    for value in range(len(ages)):\n",
    "        if 0<=ls[value]<=18:\n",
    "                generation.setdefault('Group1', []).append(ages[value])\n",
    "        if 18<ls[value]<=34:\n",
    "                generation.setdefault('Group2', []).append(ages[value])\n",
    "        if 34<ls[value]<=50:\n",
    "                generation.setdefault('Group3', []).append(ages[value])\n",
    "        if 50<ls[value]<=70:\n",
    "                generation.setdefault('Group4', []).append(ages[value])\n",
    "    return generation\n",
    "print(Gens(ls))\n",
    "\n",
    "###_____________End code here_________________###"
   ]
  },
  {
   "cell_type": "code",
   "execution_count": null,
   "metadata": {},
   "outputs": [],
   "source": [
    "# There is no need to run this chunk of code.\n",
    "ex27(ls)"
   ]
  }
 ],
 "metadata": {
  "kernelspec": {
   "display_name": "Python 3",
   "language": "python",
   "name": "python3"
  },
  "language_info": {
   "codemirror_mode": {
    "name": "ipython",
    "version": 3
   },
   "file_extension": ".py",
   "mimetype": "text/x-python",
   "name": "python",
   "nbconvert_exporter": "python",
   "pygments_lexer": "ipython3",
   "version": "3.7.1"
  }
 },
 "nbformat": 4,
 "nbformat_minor": 2
}
